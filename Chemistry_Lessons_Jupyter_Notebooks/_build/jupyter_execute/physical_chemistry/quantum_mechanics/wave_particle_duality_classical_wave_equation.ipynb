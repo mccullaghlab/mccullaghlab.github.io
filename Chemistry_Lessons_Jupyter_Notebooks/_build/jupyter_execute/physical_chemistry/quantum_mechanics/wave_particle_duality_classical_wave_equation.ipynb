{
 "cells": [
  {
   "cell_type": "markdown",
   "id": "3000d17c",
   "metadata": {},
   "source": [
    "# Wave Particle Duality and the Classical Wave Equation"
   ]
  },
  {
   "cell_type": "markdown",
   "id": "4c1df751",
   "metadata": {},
   "source": [
    "## Motivation\n",
    "\n",
    "We have already used the concept that light and matter both exhibit aspects of wave-like and particle-like behavior.  de Broglie formalized this hypothesis in his famous wavelength equation.  Additionally, we will discuss how waves are treated classically."
   ]
  },
  {
   "cell_type": "markdown",
   "id": "5c13ba82",
   "metadata": {},
   "source": [
    "## Learning Goals\n",
    "\n",
    "After working through these notes, you will be able to:\n",
    "\n",
    "1. Use the de Broglie wavelength equation to convert between wavelength and particle mass\n",
    "2. Solve the classical wave equation using the methods of separation of variables"
   ]
  },
  {
   "cell_type": "markdown",
   "id": "534ec53a",
   "metadata": {},
   "source": [
    "## Coding Concepts\n",
    "\n",
    "The following coding concepts are used in this notebook:\n",
    "\n",
    "1. [Variables](../../coding_concepts/variables.ipynb)\n",
    "2. [Functions](../../coding_concepts/functions.ipynb)\n",
    "3. [Plotting with matplotliub](../../coding_concepts/plotting_with_matplotlib.ipynb)"
   ]
  },
  {
   "cell_type": "markdown",
   "id": "6a44f3e0",
   "metadata": {},
   "source": [
    "## Matter has wavelike properties"
   ]
  },
  {
   "cell_type": "markdown",
   "id": "816fa6be",
   "metadata": {},
   "source": [
    "Both light and matter have wave-like and particle-like properties.  This is more readily observed in light.  White light splitting into colors of the visible spectrum when shone through a prism is an example of light displaying wave-like character.  The photoelectric effect, where a photon of light with energy $h\\nu$ collides with an electron causing it to leave the metal if the incident energy is larger than the work function, is an example of light displaying matter-like character.  In 1925, de Broglie reasoned that both light and matter display this behavior.  Whats more, the realatonship between wavelength and momentum derived for light by Einstein also applies to matter\n",
    "\\begin{equation}\n",
    "\\lambda = \\frac{h}{p} = \\frac{h}{mv}    \n",
    "\\end{equation}"
   ]
  },
  {
   "cell_type": "markdown",
   "id": "1efc39a7",
   "metadata": {},
   "source": [
    "### Example: The de Broglie Wavelength of Matter\n",
    "\n",
    "Compute the de Broglie Wavelength of the following two objects:\n",
    "\n",
    "1. An electron traveling at $3\\times10^{5}$ m$\\cdot$s$^{-1}$\n",
    "2. A baseball (5.0 oz) traveling at 90 mph"
   ]
  },
  {
   "cell_type": "markdown",
   "id": "40f5e822",
   "metadata": {},
   "source": [
    "### Solution: The de Broglie Wavelength of Matter\n",
    "\n",
    "1. An electron traveling at $3\\times10^5$ m$\\cdot$s$^{-1}$.  For this we compute the momentum of the electron:\n",
    "\n",
    "\\begin{align}\n",
    "p = m_ev &= (9.109\\times10^{-31}\\text{ kg})(3\\times10^5 \\text{ m}\\cdot\\text{s}^{-1}) \\\\\n",
    "&= 2.73 \\times 10^{-25} \\text{ kg}\\cdot\\text{m}\\cdot\\text{s}^{-1}\n",
    "\\end{align}\n",
    "\n",
    "The de Broglie wavelength is then\n",
    "\\begin{align}\n",
    "\\lambda &= \\frac{6.626\\times10^{-34} \\text{ J}\\cdot\\text{s}}{2.73 \\times 10^{-25} \\text{ kg}\\cdot\\text{m}\\cdot\\text{s}^{-1}} \\\\\n",
    "&= 2.43 \\text{ nm}\n",
    "\\end{align}\n",
    "\n",
    "2. For a baseball traveling at 90 mph\n",
    "\n",
    "\\begin{align}\n",
    "m = 5\\text{ oz}\\frac{1\\text{ lb}}{16 \\text{ oz}} \\frac{0.454 \\text{kg}}{1 \\text{ lb}} = 0.14 \\text {kg}\n",
    "\\end{align}\n",
    "\n",
    "\\begin{align}\n",
    "p = m_ev &= (0.14\\text{ kg})\\left(90\\text{ mph} \\frac{1610\\text{ m}}{1 \\text{mi}} \\frac{1 \\text{hr}}{3600 \\text{s}}\\right) \\\\\n",
    "&= 5.6 \\text{ kg}\\cdot\\text{m}\\cdot\\text{s}^{-1}\n",
    "\\end{align}\n",
    "\n",
    "\\begin{align}\n",
    "\\lambda = \\frac{6.626\\times10^{-34}}{5.6} = 1.2\\times10^{-34} \\text{ m}\n",
    "\\end{align}"
   ]
  },
  {
   "cell_type": "code",
   "execution_count": 1,
   "id": "d17b3a96",
   "metadata": {},
   "outputs": [
    {
     "name": "stdout",
     "output_type": "stream",
     "text": [
      "2.7326999999999997e-25\n",
      "2.424708164086801e-09\n"
     ]
    }
   ],
   "source": [
    "print(9.109e-31*3e5)\n",
    "print(6.626e-34/(9.109e-31*3e5))"
   ]
  },
  {
   "cell_type": "markdown",
   "id": "92d898fa",
   "metadata": {},
   "source": [
    "From this example we see that, at this velocity, the wavelength of electron motion is of a similar magnitude to the radius of hydrogen atom orbits.  This demonstrates that the wavelike character of the electron is important for its behavior.  \n",
    "\n",
    "The wavelength of the baseball, however, is miniscule, even for atomic distances.  Thus, the wavelike behavior of a baseball is irrelevant for its behavior.  \n",
    "\n",
    "The wavelike behavior of electrons is not only important for determining the structure and behavior of atoms and molecules.  It is utilized in electron microscopes and can display similar wavelike defraction patterns to X-rays.  "
   ]
  },
  {
   "cell_type": "markdown",
   "id": "7fa3a282",
   "metadata": {},
   "source": [
    "## The 1-D Wave Equation"
   ]
  },
  {
   "cell_type": "markdown",
   "id": "572538e6",
   "metadata": {},
   "source": [
    "The behavior and physics of waves might be foreign to us.  Waves are, however, readily treated using classical mechanics.  Consider, for example, a string of tied between two objects a length $l$ apart.  We consider the motion of the string (i.e. strumming a guitar string). The amplitude of the motion normal to the direction of the wave is described by a time dependent function $u(x,t)$ where $x$ is the position along the end separation vector and $t$ is time.  The classical wave equation relates the second derivative of the function $u$ in position and in time\n",
    "\\begin{equation}\n",
    "\\frac{\\partial^2 u(x,t)}{\\partial x^2} = \\frac{1}{v^2}\\frac{\\partial^2u(x,t)}{\\partial t^2},\n",
    "\\end{equation}\n",
    "where $v$ is the linear velocity of the wave.  This is a linear partial differential equation: linear because the second derivatives only appear to the first power and there are not cross partial derivatives and partial because derivatives of the same function w.r.t different variables show up in the same equation.  \n",
    "\n",
    "The above equation is subject to the following boundary conditions:\n",
    "\\begin{align}\n",
    "u(0,t) =& 0\\\\\n",
    "u(l,t) =& 0\n",
    "\\end{align}\n",
    "Since the string is anchored at both ends."
   ]
  },
  {
   "cell_type": "code",
   "execution_count": 2,
   "id": "4f2aa3fb",
   "metadata": {
    "tags": [
     "hide-input"
    ]
   },
   "outputs": [
    {
     "data": {
      "image/png": "[encoded data removed]",
      "text/plain": [
       "<Figure size 800x400 with 1 Axes>"
      ]
     },
     "metadata": {},
     "output_type": "display_data"
    }
   ],
   "source": [
    "import numpy as np\n",
    "import matplotlib.pyplot as plt\n",
    "%matplotlib inline\n",
    "# make an array containing domain of wavelengths to consider\n",
    "x = np.arange(0,np.pi,0.0001)\n",
    "# setup plot parameters\n",
    "fig = plt.figure(figsize=(10,5), dpi= 80, facecolor='w', edgecolor='k')\n",
    "ax = plt.subplot(111)\n",
    "ax.set_xlabel(r'$x$',size=20)\n",
    "plt.tick_params(axis='x',labelsize=20)\n",
    "plt.ylim((0.0,1.05))\n",
    "# plot quantum result\n",
    "ax.plot(x,np.sin(x),lw=3)\n",
    "plt.xlim(0,np.pi)\n",
    "# ticks\n",
    "plt.xticks([0,np.pi],[0,'l'])\n",
    "plt.yticks(ticks=None);"
   ]
  },
  {
   "cell_type": "markdown",
   "id": "591997e3",
   "metadata": {},
   "source": [
    "## Solving the 1-D Wave Equation with Separation of Variables"
   ]
  },
  {
   "cell_type": "markdown",
   "id": "4312aa03",
   "metadata": {},
   "source": [
    "The first major step to solve the above differential equation is to assume that the dependence of the two different variables can be separated.  Namely that\n",
    "\\begin{equation}\n",
    "u(x,t) = X(x)T(t)\n",
    "\\end{equation}\n",
    "where $X(x)$ is some function strictly of $x$ and $T(t)$ is another function strictly of $t$.  Substituting this for for $u$ into the differential equation above yields\n",
    "\\begin{equation}\n",
    "T(t)\\frac{d^2X(x)}{dx^2} = \\frac{1}{v^2}X(x)\\frac{d^2T(t)}{dt}\n",
    "\\end{equation}\n",
    "Dividing both sides of the above equation by $u(x,t) = X(x)T(t)$ will complete the separation of variables\n",
    "\\begin{equation}\n",
    "\\frac{1}{X(x)}\\frac{d^2X(x)}{dx^2} = \\frac{1}{v^2T(t)}\\frac{d^2T(t)}{dt}\n",
    "\\end{equation}\n",
    "\n",
    "Since the left-hand side depends only on $x$ and the right-hand side depends only on $t$, and these two coordinates are independent, the only way for this to be achieved is for both sides to be equal to the same constant.  That is\n",
    "\\begin{align}\n",
    "\\frac{1}{X(x)}\\frac{d^2X(x)}{dx^2} &= K \\\\\n",
    "\\frac{1}{v^2T(t)}\\frac{d^2T(t)}{dt} &= K\n",
    "\\end{align}\n",
    "\n",
    "Each of these equations can be rewritten as\n",
    "\\begin{align}\n",
    "\\frac{d^2X(x)}{dx^2} - KX(x) = 0 \\\\\n",
    "\\frac{d^2T(t)}{dt} - v^2KT(t) = 0\n",
    "\\end{align}\n",
    "\n",
    "These are ordinary differential equations that can be solved using standard ODE procedures.  We now consider the solutions to these equations for three scenarios\n",
    "\\begin{align}\n",
    "K &= 0\\\\\n",
    "K &>0\\\\\n",
    "K &< 0\n",
    "\\end{align}"
   ]
  },
  {
   "cell_type": "markdown",
   "id": "d241fcd9",
   "metadata": {},
   "source": [
    "### K =0 "
   ]
  },
  {
   "cell_type": "markdown",
   "id": "51ea817d",
   "metadata": {},
   "source": [
    "$K = 0$ is what is called the *trivial* solution.  Namely this solution is such that\n",
    "\\begin{equation}\n",
    "u(x,t) = 0\n",
    "\\end{equation}\n",
    "\n",
    "This is a mathematically valid solution to our problem but of no physical interest."
   ]
  },
  {
   "cell_type": "markdown",
   "id": "fa22a769",
   "metadata": {},
   "source": [
    "### K > 0"
   ]
  },
  {
   "cell_type": "markdown",
   "id": "b4736a99",
   "metadata": {},
   "source": [
    "If $K>0$, we get the following general form for $X(x)$ and $T(t)$:\n",
    "\\begin{align}\n",
    "\\frac{d^2y(x)}{dx^2} - k^2y(x) = 0 \n",
    "\\end{align}\n",
    "\n",
    "Or you can write this as \n",
    "\\begin{align}\n",
    "\\frac{d^2y(x)}{dx^2} = k^2y(x) \n",
    "\\end{align}\n",
    "which implies that $y$ is a function that, when you take two derivatives, returns itself times a constant squared.  This type of behavior is exhibited by functions of the form $e^{\\alpha x}$ the value of $\\alpha$ needs to be determined.  So, we propose that $y(x) = e^{\\alpha x}$ and plug this into the above equation to determine the expression for $\\alpha$.\n",
    "\n",
    "\\begin{align}\n",
    "&\\frac{d^2e^{\\alpha x}}{dx^2} - k^2e^{\\alpha x} = 0 \\\\\n",
    "& \\alpha^2e^{\\alpha x} - k^2e^{\\alpha x} = 0 \\\\\n",
    "& (\\alpha^2 - k^2)e^{\\alpha x} = 0 \\\\\n",
    "\\Rightarrow & (\\alpha^2 - k^2) = 0 \\\\\n",
    "\\Rightarrow & \\alpha = \\pm k\n",
    "\\end{align}\n",
    "\n",
    "This means that there are two possible values for $\\alpha$ and thus two possible solutions, $y(x)$.  Namely\n",
    "\\begin{align}\n",
    "y(x) = e^{kx} \\\\\n",
    "y(x) = e^{-kx}\n",
    "\\end{align}\n",
    "\n",
    "In general, when there are two possible solutions for a given differential equation, then any linear combination of these two solutions is also a solution.  Thus, it is more complete to write that the solution is\n",
    "\\begin{equation}\n",
    "y(x) = c_1e^{kx} + c_2e^{-kx},\n",
    "\\end{equation}\n",
    "where $c_1$ and $c_2$ are constants."
   ]
  },
  {
   "cell_type": "markdown",
   "id": "3e23e740",
   "metadata": {},
   "source": [
    "### K < 0"
   ]
  },
  {
   "cell_type": "markdown",
   "id": "80051663",
   "metadata": {},
   "source": [
    "If $K<0$, we can set $K = (ki)^2$ for arbitrary constant $k>0$.  This implies the general form for $X(x)$ and $T(t)$:\n",
    "\\begin{align}\n",
    "\\frac{d^2y(x)}{dx^2} - (ki)^2y(x) = 0 \n",
    "\\end{align}\n",
    "\n",
    "Or you can write this as \n",
    "\\begin{align}\n",
    "\\frac{d^2y(x)}{dx^2} = (ki)^2y(x) \n",
    "\\end{align}\n",
    "which implies that $y$ is a function that, when you take two derivatives, returns itself times a constant squared.  This type of behavior is exhibited by functions of the form $e^{\\alpha x}$ the value of $\\alpha$ needs to be determined.  So, we propose that $y(x) = e^{\\alpha x}$ and plug this into the above equation to determine the expression for $\\alpha$.\n",
    "\n",
    "\\begin{align}\n",
    "&\\frac{d^2e^{\\alpha x}}{dx^2} - (ik)^2e^{\\alpha x} = 0 \\\\\n",
    "& \\alpha^2e^{\\alpha x} - (ki)^2e^{\\alpha x} = 0 \\\\\n",
    "& (\\alpha^2 - (ki)^2)e^{\\alpha x} = 0 \\\\\n",
    "\\Rightarrow & (\\alpha^2 - (ki)^2) = 0 \\\\\n",
    "\\Rightarrow & \\alpha = \\pm ki\n",
    "\\end{align}\n",
    "\n",
    "This means that there are two possible values for $\\alpha$ and thus two possible solutions, $y(x)$.  Namely\n",
    "\\begin{align}\n",
    "y(x) = e^{ikx} \\\\\n",
    "y(x) = e^{-ikx}\n",
    "\\end{align}\n",
    "\n",
    "In general, when there are two possible solutions for a given differential equation, then any linear combination of these two solutions is also a solution.  Thus, it is more complete to write that the solution is\n",
    "\\begin{equation}\n",
    "y(x) = c_1e^{ikx} + c_2e^{-ikx},\n",
    "\\end{equation}\n",
    "where $c_1$ and $c_2$ are constants.\n",
    "\n",
    "In this case, we can also recall/recognize that \n",
    "\\begin{equation}\n",
    "e^{ix} = \\cos(x) + i \\sin(x)\n",
    "\\end{equation}\n",
    "\n",
    "Using this relationship is can be readily shown that\n",
    "\\begin{equation}\n",
    "y(x) = (c_1 + c_2)\\cos(kx) + i(c_1-c_2)\\sin(kx)\n",
    "\\end{equation}\n",
    "\n",
    "We will write this general solution as \n",
    "\\begin{equation}\n",
    "X(x) = A\\cos(kx) + B\\sin(kx)\n",
    "\\end{equation}\n",
    "\n",
    "When we apply the boundary conditions we get that \n",
    "\\begin{align}\n",
    "A &= 0 \\\\\n",
    "k &= \\frac{n\\pi}{l}\n",
    "\\end{align}\n",
    "\n",
    "Finally yielding an $n$ specific solution of\n",
    "\\begin{equation}\n",
    "X_n(x) = B_n\\cos\\frac{n\\pi x}{l}\n",
    "\\end{equation}"
   ]
  },
  {
   "cell_type": "markdown",
   "id": "8e4e11ca",
   "metadata": {},
   "source": [
    "### Time Dependence"
   ]
  },
  {
   "cell_type": "markdown",
   "id": "02faec5f",
   "metadata": {},
   "source": [
    "Now that we have solved the positional dependence equation and found a non-trivial solution we must solve the time dependent portion.  Recall that the time dependent differential equation is\n",
    "\\begin{equation}\n",
    "\\frac{d^2T(t)}{dt} - v^2KT(t) = 0,\n",
    "\\end{equation}\n",
    "where $K$ is the exact same constant as for the positional part. Thus, for the non-trivial case with $K<0$ we have\n",
    "\\begin{equation}\n",
    "\\frac{d^2T(t)}{dt} + \\frac{n^2\\pi^2v^2}{l^2}T(t) = 0,\n",
    "\\end{equation}\n",
    "The solutions to this equation are, by analogy with to the position equation,\n",
    "\\begin{equation}\n",
    "T_n(t) = A_n\\cos(\\omega_nt) + B_n\\sin(\\omega_nt)\n",
    "\\end{equation}\n",
    "where $\\omega_n = \\frac{n \\pi v}{l}$.  It can be shown that this can be rewritten as \n",
    "\\begin{equation}\n",
    "T_n(t) = D_n\\cos(\\omega_nt + \\phi_n)\n",
    "\\end{equation}\n",
    "where $\\phi_n = \\tan^{-1}\\frac{B_n}{A_n}$.  "
   ]
  },
  {
   "cell_type": "markdown",
   "id": "f1697a5d",
   "metadata": {},
   "source": [
    "### Combined General Solution"
   ]
  },
  {
   "cell_type": "markdown",
   "id": "40087561",
   "metadata": {},
   "source": [
    "The combined specific solution is then\n",
    "\\begin{equation}\n",
    "u_n(x,t) = A_n\\cos(\\omega_nt + \\phi_n)\\sin\\frac{n\\pi x}{l}\n",
    "\\end{equation}\n",
    "\n",
    "Since and $u_n$ is a specific solution to the linear differential equation, the general solution is a linear combination of these solutions.  Thus, the general solution is\n",
    "\n",
    "\\begin{equation}\n",
    "u(x,t) = \\sum_{i=1}^{\\infty} u_n(x,t) = \\sum_{i=1}^{\\infty} A_n\\cos(\\omega_nt + \\phi_n)\\sin\\frac{n\\pi x}{l}\n",
    "\\end{equation}"
   ]
  },
  {
   "cell_type": "markdown",
   "id": "e657b30b",
   "metadata": {},
   "source": [
    "### Example: Linear combination of first two harmonics"
   ]
  },
  {
   "cell_type": "markdown",
   "id": "90465275",
   "metadata": {},
   "source": [
    "To investigate what these look like, we can look at the sum of the first two harmonics, or first two solutions to the equation above.  The function is then\n",
    "\n",
    "\\begin{equation}\n",
    "u(x,t) = A_1\\cos(\\omega_1t)\\sin\\frac{\\pi x}{l} + A_2\\cos(\\omega_2t + \\frac{\\pi}{2})\\sin\\frac{2\\pi x}{l}\n",
    "\\end{equation}\n",
    "\n",
    "If we assume $A_1 = A_2 = 1$ we can see plot what these two curves look like as a function of time.\n",
    "\n",
    "![title](img/classical_wave_two_modes_v02.gif)"
   ]
  },
  {
   "cell_type": "code",
   "execution_count": 3,
   "id": "55811a41",
   "metadata": {
    "tags": [
     "hide-input"
    ]
   },
   "outputs": [
    {
     "name": "stderr",
     "output_type": "stream",
     "text": [
      "/var/folders/td/dll8n_kj4vd0zxjm0xd9m7740000gq/T/ipykernel_66334/4279533357.py:36: DeprecationWarning: Starting with ImageIO v3 the behavior of this function will switch to that of iio.v3.imread. To keep the current behavior (and make this warning dissapear) use `import imageio.v2 as imageio` or call `imageio.v2.imread` directly.\n",
      "  image = imageio.imread(f'./img/img_{t}.png')\n"
     ]
    }
   ],
   "source": [
    "# make animated gif of first two harmonics\n",
    "import matplotlib.pyplot as plt\n",
    "def plot_classical_wave_frame(t, nu, max_n):\n",
    "    a = 1\n",
    "    # setup plot parameters\n",
    "    fig = plt.figure(figsize=(6,4), dpi= 80, facecolor='w', edgecolor='k')\n",
    "    ax = plt.subplot(111)\n",
    "    all_x = np.arange(0,a,0.01)\n",
    "    n = 1\n",
    "    partial_sum = np.sin(n*np.pi*all_x/a)*np.cos(nu*n*t/(2*a))\n",
    "    #ax.plot(all_x,partial_sum,'--',lw=2, label=\"n=1\")\n",
    "    n = 2\n",
    "    partial_sum += np.sin(n*np.pi*all_x/a)*np.cos(nu*n*t/(2*a)+np.pi/2)\n",
    "    #ax.plot(all_x,np.sin(n*np.pi*all_x/a)*np.cos(nu*n*t/(2*a)+np.pi/2),'--',lw=2, label=\"n=2\")   \n",
    "    ax.plot(all_x,partial_sum,'-',lw=3, label=\"sum\")\n",
    "    plt.legend(fontsize=12)\n",
    "    ax.set_xlabel(r'$x/a$',size=20)\n",
    "    ax.get_yaxis().set_visible(False)\n",
    "    plt.ylim((-2,2))\n",
    "    plt.xlim((0.0,1.0))\n",
    "    plt.savefig(f'./img/img_{t}.png', \n",
    "                transparent = False,  \n",
    "                facecolor = 'white'\n",
    "               )\n",
    "    plt.close()\n",
    "    \n",
    "# make gif\n",
    "import numpy as np\n",
    "import imageio\n",
    "time = np.arange(0,120)\n",
    "for t in time:\n",
    "    plot_classical_wave_frame(t,0.1,1)\n",
    "frames = []\n",
    "for t in time:\n",
    "    #image = iio.imread(f'./img/img_{t}.png')\n",
    "    image = imageio.imread(f'./img/img_{t}.png')\n",
    "    frames.append(image)\n",
    "imageio.mimsave('./img/classical_wave_three_modes_v03.gif', # output gif\n",
    "                frames,          # array of input frames\n",
    "                fps = 10)  "
   ]
  },
  {
   "cell_type": "markdown",
   "id": "c1063fd3",
   "metadata": {},
   "source": [
    "![title](img/classical_wave_two_modes_v03.gif)"
   ]
  },
  {
   "cell_type": "code",
   "execution_count": null,
   "id": "da0e9b8a",
   "metadata": {},
   "outputs": [],
   "source": []
  }
 ],
 "metadata": {
  "celltoolbar": "Tags",
  "kernelspec": {
   "display_name": "Python 3 (ipykernel)",
   "language": "python",
   "name": "python3"
  },
  "language_info": {
   "codemirror_mode": {
    "name": "ipython",
    "version": 3
   },
   "file_extension": ".py",
   "mimetype": "text/x-python",
   "name": "python",
   "nbconvert_exporter": "python",
   "pygments_lexer": "ipython3",
   "version": "3.9.13"
  }
 },
 "nbformat": 4,
 "nbformat_minor": 5
}