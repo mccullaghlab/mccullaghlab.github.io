{
 "cells": [
  {
   "cell_type": "code",
   "execution_count": 1,
   "metadata": {
    "slideshow": {
     "slide_type": "skip"
    }
   },
   "outputs": [
    {
     "ename": "ModuleNotFoundError",
     "evalue": "No module named 'plotting'",
     "output_type": "error",
     "traceback": [
      "\u001b[0;31m---------------------------------------------------------------------------\u001b[0m",
      "\u001b[0;31mModuleNotFoundError\u001b[0m                       Traceback (most recent call last)",
      "\u001b[0;32m/var/folders/td/dll8n_kj4vd0zxjm0xd9m7740000gq/T/ipykernel_5953/172206909.py\u001b[0m in \u001b[0;36m<module>\u001b[0;34m\u001b[0m\n\u001b[1;32m      2\u001b[0m \u001b[0;32mimport\u001b[0m \u001b[0mmatplotlib\u001b[0m\u001b[0;34m.\u001b[0m\u001b[0mpyplot\u001b[0m \u001b[0;32mas\u001b[0m \u001b[0mplt\u001b[0m\u001b[0;34m\u001b[0m\u001b[0;34m\u001b[0m\u001b[0m\n\u001b[1;32m      3\u001b[0m \u001b[0mget_ipython\u001b[0m\u001b[0;34m(\u001b[0m\u001b[0;34m)\u001b[0m\u001b[0;34m.\u001b[0m\u001b[0mrun_line_magic\u001b[0m\u001b[0;34m(\u001b[0m\u001b[0;34m'matplotlib'\u001b[0m\u001b[0;34m,\u001b[0m \u001b[0;34m'inline'\u001b[0m\u001b[0;34m)\u001b[0m\u001b[0;34m\u001b[0m\u001b[0;34m\u001b[0m\u001b[0m\n\u001b[0;32m----> 4\u001b[0;31m \u001b[0;32mimport\u001b[0m \u001b[0mplotting\u001b[0m \u001b[0;32mas\u001b[0m \u001b[0mmyplt\u001b[0m\u001b[0;34m\u001b[0m\u001b[0;34m\u001b[0m\u001b[0m\n\u001b[0m",
      "\u001b[0;31mModuleNotFoundError\u001b[0m: No module named 'plotting'"
     ]
    }
   ],
   "source": [
    "import numpy as np\n",
    "import matplotlib.pyplot as plt\n",
    "%matplotlib inline\n",
    "import plotting as myplt"
   ]
  },
  {
   "cell_type": "markdown",
   "metadata": {
    "slideshow": {
     "slide_type": "slide"
    }
   },
   "source": [
    "# Heat Engine Diagrams"
   ]
  },
  {
   "cell_type": "markdown",
   "metadata": {
    "slideshow": {
     "slide_type": "slide"
    }
   },
   "source": [
    "## Learning goals\n",
    "\n",
    "After this class, students should be able to:\n",
    "\n",
    "1. Draw a heat engine diagram for a heat engine and a refrigerator \n",
    "2. Label $w$, $q_c$, $q_h$, $T_h$ and $T_c$ on a heat engine diagram\n",
    "3. Relate the above values to a $PV$ digram for the same heat engine or refrigerator\n",
    "4. Compute efficiency of heat engine\n",
    "5. Compute coefficient of performance for a refrigerator"
   ]
  },
  {
   "cell_type": "markdown",
   "metadata": {
    "slideshow": {
     "slide_type": "slide"
    }
   },
   "source": [
    "A heat engine diagram is another way of representing a heat engine.  But before we get into these diagrams, some definitions:\n",
    "\n",
    "1. A ***heat engine*** is a system that uses heat to generate work.  A combustion engine is a prime example of a heat engine. In effect, heat transfers from a hot place to a cold place (spontaneous) and work is extracted along the way. \n",
    "\n",
    "2. A ***refrigerator*** is something that uses work to move heat from a hot place to a cold place. Work is input to counteract the spontaneous flow of heat from the hot resevoir to the cold resevoir.   "
   ]
  },
  {
   "cell_type": "markdown",
   "metadata": {
    "slideshow": {
     "slide_type": "slide"
    }
   },
   "source": [
    "Heat engine diagrams are just another way to view the types of Thermodynamic cycles we have been talking about. The are used to indicate the flow of heat and work throughout the cycle.\n",
    "\n",
    "To draw one, we start with three main components:\n",
    "\n",
    "1. A motor (we draw as a circle)\n",
    "2. A hot resevoir at $T_2$ or $T_h$\n",
    "3. A cold resevoir at $T_1$ or $T_c$\n",
    "\n",
    "<img src=\"Heat_Engine_Diagram_Fill_in.png\" width=\"750\" align=\"center\">"
   ]
  },
  {
   "cell_type": "markdown",
   "metadata": {
    "slideshow": {
     "slide_type": "slide"
    }
   },
   "source": [
    "Arrows are then drawn to indicate the flow of heat and work.  The direction of the arrows are what dictate whether we are looking at a ***heat engine*** or a ***refrigerator***."
   ]
  },
  {
   "cell_type": "markdown",
   "metadata": {
    "slideshow": {
     "slide_type": "slide"
    }
   },
   "source": [
    "## Heat Engine\n",
    "\n",
    "In a ***heat engine*** heat flow from a hot place to a cold place and work is extracted.  On a heat engine diagram, this is indicated by three arrows:\n",
    "\n",
    "1. $q_2$ or $q_h$ is the heat transferred from the hot resevoir to the motor\n",
    "2. $q_1$ or $q_c$ is the heat transferred from the motor to the cold resevoir\n",
    "3. $w$ is the work extracted from the motor (motor is system so $w<0$)\n",
    "\n",
    "<img src=\"Heat_Engine_Diagram_Fill_in.png\" width=\"750\" align=\"center\">"
   ]
  },
  {
   "cell_type": "markdown",
   "metadata": {
    "slideshow": {
     "slide_type": "slide"
    }
   },
   "source": [
    "## Refrigerator\n",
    "\n",
    "In a ***refrigerator*** work is input to move heat from a cold place to a hot place.  On a heat engine diagram, this is indicated by three arrows:\n",
    "\n",
    "1. $w$ is done on the motor (motor is system so $w>0$)\n",
    "2. $q_1$ or $q_c$ is the heat extracted from the cold resevoir\n",
    "3. $q_2$ or $q_h$ is the heat dumped into the hot resevoir\n",
    "\n",
    "<img src=\"Heat_Engine_Diagram_Fill_in.png\" width=\"750\" align=\"center\">"
   ]
  },
  {
   "cell_type": "markdown",
   "metadata": {
    "slideshow": {
     "slide_type": "slide"
    }
   },
   "source": [
    "## Relating Heat Engine Diagrams to $PV$ diagrams\n",
    "\n",
    "In order to relate these two things, we must determine what $q_c$ and $q_h$ are on a $PV$ diagram.   This is most readily done for a Carnot cycle since $q=0$ for the two adiabats.  Thus, the only finite $q$ values are from the two isotherms"
   ]
  },
  {
   "cell_type": "markdown",
   "metadata": {
    "slideshow": {
     "slide_type": "slide"
    }
   },
   "source": [
    "## Efficiencies of Heat Engines and COP of Refrigerators\n",
    "\n",
    "For a ***heat engine*** ($w_{total}<0$), the efficiency is the amount of work extracted, $w_{total}$, divided by the energy in put, $q_{in}$.\n",
    "\n",
    "$\\varepsilon = \\frac{w_{total}}{q_{in}}$\n",
    "\n",
    "For the Carnot cycle, this becomes:\n",
    "\n",
    "$\\varepsilon = \\frac{T_h-T_c}{T_h}$\n",
    "\n",
    "For a ***refrigerator*** ($w_{total}>0$), the coefficient of performance (COP) is the heat transferred from a cold place, $q_c$, divided by the work done on the system.\n",
    "\n",
    "$COP = \\frac{q_c}{w_{total}}$\n",
    "\n",
    "This value is maximized for a Carnot refrigerator so we know that:\n",
    "\n",
    "$COP \\leq \\frac{T_c}{T_h-T_c}$"
   ]
  },
  {
   "cell_type": "markdown",
   "metadata": {
    "slideshow": {
     "slide_type": "slide"
    }
   },
   "source": [
    "# Entropy, a Molecular Persepective"
   ]
  },
  {
   "cell_type": "markdown",
   "metadata": {
    "slideshow": {
     "slide_type": "slide"
    }
   },
   "source": [
    "## Learning goals\n",
    "\n",
    "After this class, students should be able to:\n",
    "\n",
    "1. Describe what how entropy can drive certain outcomes\n",
    "2. Compute entropy of a simple lattice gas"
   ]
  },
  {
   "cell_type": "markdown",
   "metadata": {
    "slideshow": {
     "slide_type": "slide"
    }
   },
   "source": [
    "So far, we can summarize what we know about entropy as\n",
    "\n",
    "1. Entropy is a state function.\n",
    "2. Change in entropy is related to reversible heat and temperature.\n",
    "3. Entropy is somehow related to disorder.\n",
    "\n",
    "It is this last point that I want to focus on here."
   ]
  },
  {
   "cell_type": "markdown",
   "metadata": {
    "slideshow": {
     "slide_type": "slide"
    }
   },
   "source": [
    "## Example: Galton Board\n",
    "\n",
    "To see how entropy, or disorder, plays a role in determining outcome let us consider the example of a galton board.  In a Galton Board, balls are dropped from the top, through a peg board, finally landing in different bins on the bottom.  This is likely familiar to you as a gameshow style game. \n",
    "\n",
    "In the case of a Galton board, it is the gravitational potential energy difference between the top and the bottom that causes the balls to fall.  There is no difference in potential energy, however, between any of the bins at the bottom.  So why are certain bins (middle ones) favored?\n",
    "\n",
    "<img src=\"GaltonPuzzle_8Bin-Board.jpg\" width=\"250\" align=\"center\">"
   ]
  },
  {
   "cell_type": "markdown",
   "metadata": {
    "slideshow": {
     "slide_type": "slide"
    }
   },
   "source": [
    "The reason is because the are more paths for the balls to get to the central bins than to the bins on the edge.  You might recognize this as a bionomial process or the Fibonacci triangle.  Regardless, the probability of the bins follow the binomial distribution.\n",
    "\n",
    "If we consider a Galton board with just one peg and two bins, the probability of each bin is simple $0.5$.  More generally, the probability can be computed as:\n",
    "\n",
    "$P_{bin} = \\frac{\\text{Number of paths to that bin}}{\\text{Total number of paths}}$\n",
    "\n",
    "In the case of a single peg, the are a total of two paths (left and right) and one path goes to the left (thus $P_{left} = \\frac{1}{2}$ and one path goes to the right.\n",
    "\n",
    "<img src=\"GaltonPuzzle_8Bin-Board.jpg\" width=\"250\" align=\"center\">"
   ]
  },
  {
   "cell_type": "markdown",
   "metadata": {},
   "source": [
    "If we go to the next level, there are two additional pegs followed by three bins at the bottom.  The probability of each bin is:\n",
    "\n",
    "\\begin{align}\n",
    "P_{left} =& \\frac{1}{4} \\\\\n",
    "P_{left} =& \\frac{2}{4} = \\frac{1}{2} \\\\\n",
    "P_{left} =& \\frac{1}{4} \n",
    "\\end{align}\n",
    "\n",
    "Now, more generally, since these follow the binomal distribution, we can compute the probability of bin $i$ given that there are $n$ rows in the \n",
    "\n",
    "\\begin{equation}\n",
    "P^n_i = \\frac{nCi}{\\sum_j^n nCj}\n",
    "\\end{equation}\n",
    "\n",
    "where $nCi$ is said as \"$n$ choose $i$\" and $nCi = \\frac{n!}{(n-i)!i!}$."
   ]
  },
  {
   "cell_type": "markdown",
   "metadata": {
    "slideshow": {
     "slide_type": "slide"
    }
   },
   "source": [
    "## Entropy and Counting\n",
    "\n",
    "So how does this relate to entropy?  Entropy is not just the number of ways to get a certain outcome nor is it the probability of a certain outcome.   It is, however, related to these quantities via the Boltzmann equation:\n",
    "\n",
    "$S = k\\ln\\Omega$\n",
    "\n",
    "where $k$ is the Boltzmann constant and $\\Omega$ is the number of ways of arranging the system.\n",
    "\n",
    "As a note, it is somtimes written $S=k\\ln W$ where $W$ is substituted for $\\Omega$.  There is no substantive difference between these equations."
   ]
  },
  {
   "cell_type": "markdown",
   "metadata": {
    "slideshow": {
     "slide_type": "slide"
    }
   },
   "source": [
    "## Lattice Gas"
   ]
  },
  {
   "cell_type": "markdown",
   "metadata": {
    "slideshow": {
     "slide_type": "fragment"
    }
   },
   "source": [
    "A lattice gas is a common example to see how the ideas of counting can be used to compute/estimate entropy for a molecular system.  We will uses these examples to estimate entropy of mixing, for example.  But we start by simply describing the lattice gas model.\n",
    "\n"
   ]
  },
  {
   "cell_type": "markdown",
   "metadata": {
    "slideshow": {
     "slide_type": "slide"
    }
   },
   "source": [
    "Estimate the entropy of two molecules of an excluded volume gas in a fixed volume.\n",
    "\n",
    "We currently have no tools that allow us to estimate the absolute entropy of a system (we might be able to compute change in entropy during a process)...\n",
    "\n",
    "To estimate this, we consider the two molecules fixed in a 2D box (square):\n",
    "\n",
    "<img src=\"gas.png\" width=\"350\" align=\"center\">"
   ]
  },
  {
   "cell_type": "markdown",
   "metadata": {
    "slideshow": {
     "slide_type": "slide"
    }
   },
   "source": [
    "The gas particles can move around but cannot overlap (finite volume).  So how many ways can we arrange them?  Currently, their motion is on a continuous space and not possible to count.  Instead, we discretize the space in some manner and say that the gas particles can occupy a single grid (or lattice) position\n",
    "\n",
    "<img src=\"gas_lattice_gas.png\" width=\"700\" align=\"center\">"
   ]
  },
  {
   "cell_type": "markdown",
   "metadata": {
    "slideshow": {
     "slide_type": "slide"
    }
   },
   "source": [
    "Now, the number of ways of arranging the gas particles ($W$ or $\\Omega$ in the Boltzmann equation) can be computed using the binomial coefficient\n",
    "\n",
    "\\begin{equation}\n",
    "W = 16C2 = \\frac{16!}{14! 2!} = 8\\cdot15 = 120\n",
    "\\end{equation}\n",
    "\n",
    "\\begin{equation}\n",
    "S = k\\ln120\n",
    "\\end{equation}"
   ]
  },
  {
   "cell_type": "code",
   "execution_count": 1,
   "metadata": {
    "slideshow": {
     "slide_type": "fragment"
    }
   },
   "outputs": [
    {
     "data": {
      "text/plain": [
       "120.0"
      ]
     },
     "execution_count": 1,
     "metadata": {},
     "output_type": "execute_result"
    }
   ],
   "source": [
    "import scipy.special\n",
    "scipy.special.binom(16,2)"
   ]
  },
  {
   "cell_type": "code",
   "execution_count": 2,
   "metadata": {
    "slideshow": {
     "slide_type": "fragment"
    }
   },
   "outputs": [
    {
     "ename": "NameError",
     "evalue": "name 'np' is not defined",
     "output_type": "error",
     "traceback": [
      "\u001b[0;31m---------------------------------------------------------------------------\u001b[0m",
      "\u001b[0;31mNameError\u001b[0m                                 Traceback (most recent call last)",
      "\u001b[0;32m<ipython-input-2-d79cf8b0e83e>\u001b[0m in \u001b[0;36m<module>\u001b[0;34m\u001b[0m\n\u001b[1;32m      1\u001b[0m \u001b[0mk\u001b[0m \u001b[0;34m=\u001b[0m \u001b[0;36m1.38e-23\u001b[0m \u001b[0;31m# this is in units of J/K\u001b[0m\u001b[0;34m\u001b[0m\u001b[0;34m\u001b[0m\u001b[0m\n\u001b[0;32m----> 2\u001b[0;31m \u001b[0mprint\u001b[0m\u001b[0;34m(\u001b[0m\u001b[0mk\u001b[0m\u001b[0;34m*\u001b[0m\u001b[0mnp\u001b[0m\u001b[0;34m.\u001b[0m\u001b[0mlog\u001b[0m\u001b[0;34m(\u001b[0m\u001b[0mscipy\u001b[0m\u001b[0;34m.\u001b[0m\u001b[0mspecial\u001b[0m\u001b[0;34m.\u001b[0m\u001b[0mbinom\u001b[0m\u001b[0;34m(\u001b[0m\u001b[0;36m16\u001b[0m\u001b[0;34m,\u001b[0m\u001b[0;36m2\u001b[0m\u001b[0;34m)\u001b[0m\u001b[0;34m)\u001b[0m\u001b[0;34m)\u001b[0m\u001b[0;34m\u001b[0m\u001b[0;34m\u001b[0m\u001b[0m\n\u001b[0m",
      "\u001b[0;31mNameError\u001b[0m: name 'np' is not defined"
     ]
    }
   ],
   "source": [
    "k = 1.38e-23 # this is in units of J/K\n",
    "print(k*np.log(scipy.special.binom(16,2)))"
   ]
  },
  {
   "cell_type": "markdown",
   "metadata": {
    "slideshow": {
     "slide_type": "slide"
    }
   },
   "source": [
    "### A Note on Units of $k$ (Boltzmann constant)\n",
    "\n",
    "$k = 1.38\\times10^{-23}$ $J/K$ is a typical value and units of $k$.  Note that this is an extremely small value and that it is on the order of magnitude of a single particle/molecule.  i.e. $10^{-23}$ when Avogadro's number is $10^{23}$.  \n",
    "\n",
    "$k$ can be thought of as the molecular value of the gas constant.  So, if you want to compute a molar quantity, i.e. $J/(K\\cdot mol)$, you would use $R = 8.314$ $J/(K\\cdot mol)$ for $k$."
   ]
  },
  {
   "cell_type": "markdown",
   "metadata": {
    "slideshow": {
     "slide_type": "slide"
    }
   },
   "source": [
    "### Entropy of Mixing of Two (or more) Lattice Gasses"
   ]
  },
  {
   "cell_type": "markdown",
   "metadata": {
    "slideshow": {
     "slide_type": "fragment"
    }
   },
   "source": [
    "Given that we can now estimate the entropy of a lattice gas in a given volume, we can compute the change in entropy upon expansion, contraction or mixing of lattice gasses.\n",
    "\n",
    "\\begin{equation}\n",
    "\\Delta S = S_f - S_i = k\\ln W_f - k \\ln W_i = k\\ln\\left(\\frac{W_f}{W_i}\\right)\n",
    "\\end{equation}"
   ]
  },
  {
   "cell_type": "markdown",
   "metadata": {
    "slideshow": {
     "slide_type": "slide"
    }
   },
   "source": [
    "### Example\n",
    "\n",
    "Consider the system of two distinguishable excluded volume gasses initially separated by a barrier indicated by the dashed line.  Compute the change in entropy for the following system if the dashed line is made to be:\n",
    "\n",
    "1. Permeable only to solid colored particles (semi-permeable)\n",
    "2. Fully permeable\n",
    "\n",
    "<img src=\"gas_mix.png\" width=\"500\" align=\"center\">"
   ]
  },
  {
   "cell_type": "markdown",
   "metadata": {
    "slideshow": {
     "slide_type": "slide"
    }
   },
   "source": [
    "Permeable only to solid particles from Side L.\n",
    "\n",
    "We start writing the entropy of mixing as:\n",
    "\n",
    "\\begin{equation}\n",
    "\\Delta S = S_f - S_i = k\\ln W_f - k\\ln W_i = k\\ln\\left(\\frac{W_f}{W_i}\\right)\n",
    "\\end{equation}\n",
    "\n",
    "So we need to compute $W_f$ and $W_i$.  We start with $W_i$:\n",
    "\n",
    "\\begin{align}\n",
    "W_i =& W_L \\cdot W_R \\\\\n",
    "=& 12C6 \\cdot 8C4 \\\\\n",
    "=& 924 \\cdot 70 = 64680\n",
    "\\end{align}"
   ]
  },
  {
   "cell_type": "code",
   "execution_count": 3,
   "metadata": {
    "slideshow": {
     "slide_type": "fragment"
    }
   },
   "outputs": [
    {
     "name": "stdout",
     "output_type": "stream",
     "text": [
      "924.0\n",
      "70.0\n",
      "64680.0\n"
     ]
    }
   ],
   "source": [
    "print(scipy.special.binom(12,6))\n",
    "print(scipy.special.binom(8,4))\n",
    "print(scipy.special.binom(12,6)*scipy.special.binom(8,4))"
   ]
  },
  {
   "cell_type": "markdown",
   "metadata": {
    "slideshow": {
     "slide_type": "slide"
    }
   },
   "source": [
    "Now for $W_f$.  There are many ways to correctly think about and compute the number of ways to arrange this system.  Here, I will consider the following decomposition\n",
    "\n",
    "\\begin{align}\n",
    "W_f =& W_{solid} \\cdot W_{open} \n",
    "\\end{align}\n",
    "\n",
    "$W_{open}$ is the number of ways to arrange the open circles.  Since the open circles cannot diffuse across the barrier, this is identical to the initial situation.  Thus, \n",
    "\n",
    "\\begin{equation}\n",
    "W_{open} = 8C4 = 70\n",
    "\\end{equation}\n",
    "\n",
    "$W_{solid}$ is only slighty more complicated.  Since the barrier is permeable to the solid particles, they can diffuse across it.  Thus, nominally, the solid circles can be in any one of the 20 lattice positions.  But, we know that the open circles are occupying four of these lattice positions, so really the solid circles have 16 lattice positions to choose from. Thus, \n",
    "\n",
    "\\begin{equation}\n",
    "W_{solid} = 16C6 = 8008\n",
    "\\end{equation}\n",
    "\n",
    "and\n",
    "\n",
    "\\begin{equation}\n",
    "W_f = 560560\n",
    "\\end{equation}"
   ]
  },
  {
   "cell_type": "code",
   "execution_count": 4,
   "metadata": {
    "slideshow": {
     "slide_type": "fragment"
    }
   },
   "outputs": [
    {
     "name": "stdout",
     "output_type": "stream",
     "text": [
      "8008.0\n",
      "560560.0\n"
     ]
    }
   ],
   "source": [
    "print(scipy.special.binom(16,6))\n",
    "print(scipy.special.binom(16,6)*scipy.special.binom(8,4))"
   ]
  },
  {
   "cell_type": "markdown",
   "metadata": {
    "slideshow": {
     "slide_type": "slide"
    }
   },
   "source": [
    "Finally, we compute $\\Delta S_{mix}$:\n",
    "\n",
    "\\begin{align}\n",
    "\\Delta S_{mix} &= k\\ln\\left(\\frac{W_f}{W_i}\\right) \\\\\n",
    "&= k\\ln\\left(\\frac{560560}{64680}\\right)\\\\\n",
    "&= k\\ln\\left(8.6666\\right)\\\\\n",
    "&\\approx k\\cdot 2.1595\\\\\n",
    "&\\approx 17.95 \\quad J/(K\\cdot mol)\n",
    "\\end{align}"
   ]
  },
  {
   "cell_type": "code",
   "execution_count": 7,
   "metadata": {
    "slideshow": {
     "slide_type": "fragment"
    }
   },
   "outputs": [
    {
     "name": "stdout",
     "output_type": "stream",
     "text": [
      "8.666666666666666\n",
      "2.159484249353372\n",
      "17.953952049123934\n"
     ]
    }
   ],
   "source": [
    "print(560560/64680)\n",
    "print(np.log(560560/64680))\n",
    "print(8.314*np.log(560560/64680))"
   ]
  }
 ],
 "metadata": {
  "celltoolbar": "Slideshow",
  "kernelspec": {
   "display_name": "Python 3",
   "language": "python",
   "name": "python3"
  },
  "language_info": {
   "codemirror_mode": {
    "name": "ipython",
    "version": 3
   },
   "file_extension": ".py",
   "mimetype": "text/x-python",
   "name": "python",
   "nbconvert_exporter": "python",
   "pygments_lexer": "ipython3",
   "version": "3.9.13"
  }
 },
 "nbformat": 4,
 "nbformat_minor": 4
}