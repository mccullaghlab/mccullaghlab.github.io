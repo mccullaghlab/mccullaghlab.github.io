{
 "cells": [
  {
   "cell_type": "code",
   "execution_count": null,
   "id": "df564d6a",
   "metadata": {},
   "outputs": [],
   "source": [
    "# make two plots of the same spherical harmonic\n",
    "import numpy as np\n",
    "from scipy.special import sph_harm\n",
    "from scipy.special import eval_genlaguerre\n",
    "from scipy.special import lpmv\n",
    "from scipy.special import factorial\n",
    "%matplotlib inline\n",
    "from scipy.optimize import root\n",
    "\n",
    "a0 = 1.0 # radial unit of Bohr!   \n",
    "\n",
    "def hydrogen_atom_wf(r,theta,phi,n,l,m):\n",
    "    Y_norm = np.sqrt((2*l+1)*factorial(l-np.abs(m))/(4*np.pi*factorial(l+np.abs(m))))\n",
    "    R_prefactor = -np.sqrt(factorial(n-l-1)/(2*n*factorial(n+l)))*(2.0/(n*a0))**(l+1.5)*np.power(r,l)*np.exp(-r/(n*a0))\n",
    "    R = R_prefactor*eval_genlaguerre(n-l-1,2*l+1,2*r/(n*a0))\n",
    "    return Y_norm*sph_harm(m, l, phi, theta).real*R"
   ]
  }
 ],
 "metadata": {
  "kernelspec": {
   "display_name": "Python 3 (ipykernel)",
   "language": "python",
   "name": "python3"
  },
  "language_info": {
   "codemirror_mode": {
    "name": "ipython",
    "version": 3
   },
   "file_extension": ".py",
   "mimetype": "text/x-python",
   "name": "python",
   "nbconvert_exporter": "python",
   "pygments_lexer": "ipython3",
   "version": "3.12.7"
  }
 },
 "nbformat": 4,
 "nbformat_minor": 5
}
